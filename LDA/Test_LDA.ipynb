{
 "metadata": {
  "name": "",
  "signature": "sha256:1710ed102504ece4fa4a33a481a59f57ca4472ab65efa9067eab7cc90fb27c28"
 },
 "nbformat": 3,
 "nbformat_minor": 0,
 "worksheets": [
  {
   "cells": [
    {
     "cell_type": "code",
     "collapsed": false,
     "input": [
      "#basic stuffs\n",
      "#=========================================================\n",
      "%pylab inline\n",
      "pylab.xkcd()\n",
      "import pandas as pd\n",
      "import numpy as np"
     ],
     "language": "python",
     "metadata": {},
     "outputs": [
      {
       "output_type": "stream",
       "stream": "stdout",
       "text": [
        "Populating the interactive namespace from numpy and matplotlib\n"
       ]
      }
     ],
     "prompt_number": 1
    },
    {
     "cell_type": "code",
     "collapsed": false,
     "input": [
      "#working with the XML nsf data which contains abstracts\n",
      "import re\n",
      "import glob\n",
      "\n",
      "#from 1976 to 2013\n",
      "#ABSTRACTS ONLY START APPEARING STARTING AT 1983\n",
      "dateRange = (1990,2013)\n",
      "\n",
      "pieces = [];\n",
      "\n",
      "yob_filename_re = re.compile(r\"df\\-(\\d{4})\")\n",
      "\n",
      "#this is a hardcoded path... they wouldn't fit in my dropbox folder. \n",
      "#change this accordingly...\n",
      "yobs = glob.glob(\"C:/Users/Mark/Desktop/nsfdata/*/*.msg\")\n",
      "\n",
      "for path in yobs:\n",
      "    year = int(yob_filename_re.findall(path)[0])\n",
      "    if year >= dateRange[0] and year <= dateRange[1]:\n",
      "        print(year)\n",
      "        print(path)\n",
      "        df = pd.read_pickle(path)\n",
      "        df['year'] = year\n",
      "        pieces.append(df)\n",
      "        print('size: '+str(df.shape))\n",
      "    \n",
      "#nsfdata = pd.concat(pieces, ignore_index=True)\n",
      "    \n"
     ],
     "language": "python",
     "metadata": {},
     "outputs": [
      {
       "output_type": "stream",
       "stream": "stdout",
       "text": [
        "1990\n",
        "C:/Users/Mark/Desktop/nsfdata\\msg_dataframe_3\\df-1990.msg\n",
        "size: (10082, 420)"
       ]
      },
      {
       "output_type": "stream",
       "stream": "stdout",
       "text": [
        "\n",
        "1991\n",
        "C:/Users/Mark/Desktop/nsfdata\\msg_dataframe_4\\df-1991.msg\n",
        "size: (10731, 528)"
       ]
      },
      {
       "output_type": "stream",
       "stream": "stdout",
       "text": [
        "\n",
        "1992\n",
        "C:/Users/Mark/Desktop/nsfdata\\msg_dataframe_4\\df-1992.msg\n",
        "size: (10627, 663)"
       ]
      },
      {
       "output_type": "stream",
       "stream": "stdout",
       "text": [
        "\n",
        "1993\n",
        "C:/Users/Mark/Desktop/nsfdata\\msg_dataframe_4\\df-1993.msg\n",
        "size: (10060, 483)"
       ]
      },
      {
       "output_type": "stream",
       "stream": "stdout",
       "text": [
        "\n",
        "1994\n",
        "C:/Users/Mark/Desktop/nsfdata\\msg_dataframe_4\\df-1994.msg\n",
        "size: (9956, 1707)"
       ]
      },
      {
       "output_type": "stream",
       "stream": "stdout",
       "text": [
        "\n",
        "1995\n",
        "C:/Users/Mark/Desktop/nsfdata\\msg_dataframe_4\\df-1995.msg\n",
        "size: (9771, 507)"
       ]
      },
      {
       "output_type": "stream",
       "stream": "stdout",
       "text": [
        "\n",
        "1996\n",
        "C:/Users/Mark/Desktop/nsfdata\\msg_dataframe_5\\df-1996.msg\n",
        "size: (9445, 816)"
       ]
      },
      {
       "output_type": "stream",
       "stream": "stdout",
       "text": [
        "\n",
        "1997\n",
        "C:/Users/Mark/Desktop/nsfdata\\msg_dataframe_5\\df-1997.msg\n",
        "size: (10255, 654)"
       ]
      },
      {
       "output_type": "stream",
       "stream": "stdout",
       "text": [
        "\n",
        "1998\n",
        "C:/Users/Mark/Desktop/nsfdata\\msg_dataframe_5\\df-1998.msg\n",
        "size: (9596, 1581)"
       ]
      },
      {
       "output_type": "stream",
       "stream": "stdout",
       "text": [
        "\n",
        "1999\n",
        "C:/Users/Mark/Desktop/nsfdata\\msg_dataframe_5\\df-1999.msg\n",
        "size: (10399, 738)"
       ]
      },
      {
       "output_type": "stream",
       "stream": "stdout",
       "text": [
        "\n",
        "2000\n",
        "C:/Users/Mark/Desktop/nsfdata\\msg_dataframe_5\\df-2000.msg\n",
        "size: (10368, 546)"
       ]
      },
      {
       "output_type": "stream",
       "stream": "stdout",
       "text": [
        "\n",
        "2001\n",
        "C:/Users/Mark/Desktop/nsfdata\\msg_dataframe_6\\df-2001.msg\n",
        "size: (9846, 528)"
       ]
      },
      {
       "output_type": "stream",
       "stream": "stdout",
       "text": [
        "\n",
        "2002\n",
        "C:/Users/Mark/Desktop/nsfdata\\msg_dataframe_6\\df-2002.msg\n",
        "size: (10948, 645)"
       ]
      },
      {
       "output_type": "stream",
       "stream": "stdout",
       "text": [
        "\n",
        "2003\n",
        "C:/Users/Mark/Desktop/nsfdata\\msg_dataframe_6\\df-2003.msg\n",
        "size: (11555, 450)"
       ]
      },
      {
       "output_type": "stream",
       "stream": "stdout",
       "text": [
        "\n",
        "2004\n",
        "C:/Users/Mark/Desktop/nsfdata\\msg_dataframe_6\\df-2004.msg\n",
        "size: (10719, 1047)"
       ]
      },
      {
       "output_type": "stream",
       "stream": "stdout",
       "text": [
        "\n",
        "2005\n",
        "C:/Users/Mark/Desktop/nsfdata\\msg_dataframe_6\\df-2005.msg\n",
        "size: (10723, 639)"
       ]
      },
      {
       "output_type": "stream",
       "stream": "stdout",
       "text": [
        "\n",
        "2006\n",
        "C:/Users/Mark/Desktop/nsfdata\\msg_dataframe_7\\df-2006.msg\n",
        "size: (11058, 474)"
       ]
      },
      {
       "output_type": "stream",
       "stream": "stdout",
       "text": [
        "\n",
        "2007\n",
        "C:/Users/Mark/Desktop/nsfdata\\msg_dataframe_7\\df-2007.msg\n",
        "size: (12218, 450)"
       ]
      },
      {
       "output_type": "stream",
       "stream": "stdout",
       "text": [
        "\n",
        "2008\n",
        "C:/Users/Mark/Desktop/nsfdata\\msg_dataframe_7\\df-2008.msg\n",
        "size: (12611, 441)"
       ]
      },
      {
       "output_type": "stream",
       "stream": "stdout",
       "text": [
        "\n",
        "2009\n",
        "C:/Users/Mark/Desktop/nsfdata\\msg_dataframe_7\\df-2009.msg\n",
        "size: (15426, 507)"
       ]
      },
      {
       "output_type": "stream",
       "stream": "stdout",
       "text": [
        "\n",
        "2010\n",
        "C:/Users/Mark/Desktop/nsfdata\\msg_dataframe_7\\df-2010.msg\n",
        "size: (13091, 522)"
       ]
      },
      {
       "output_type": "stream",
       "stream": "stdout",
       "text": [
        "\n",
        "2011\n",
        "C:/Users/Mark/Desktop/nsfdata\\msg_dataframe_8\\df-2011.msg\n",
        "size: (11649, 381)"
       ]
      },
      {
       "output_type": "stream",
       "stream": "stdout",
       "text": [
        "\n",
        "2012\n",
        "C:/Users/Mark/Desktop/nsfdata\\msg_dataframe_8\\df-2012.msg\n",
        "size: (12126, 372)"
       ]
      },
      {
       "output_type": "stream",
       "stream": "stdout",
       "text": [
        "\n",
        "2013\n",
        "C:/Users/Mark/Desktop/nsfdata\\msg_dataframe_8\\df-2013.msg\n",
        "size: (10054, 384)"
       ]
      },
      {
       "output_type": "stream",
       "stream": "stdout",
       "text": [
        "\n"
       ]
      }
     ],
     "prompt_number": 17
    },
    {
     "cell_type": "code",
     "collapsed": false,
     "input": [
      "abstracts = nsfdata.ix[:,18].dropna()\n",
      "abstracts = map(lambda x : x.encode('ascii','ignore'), abstracts.tolist())"
     ],
     "language": "python",
     "metadata": {},
     "outputs": [],
     "prompt_number": 27
    },
    {
     "cell_type": "code",
     "collapsed": false,
     "input": [
      "#you can try passing this as an argument to lda.performLDA to get a sense of how it's working...\n",
      "testdoc = ['I ate a banana and a spinach smoothie for breakfast',\n",
      "           'I like to eat broccoli and bananas',\n",
      "           'Chinchillas and kittens are cute',\n",
      "           'My sister adopted a kitten yesterday',\n",
      "           'Look at this cute hampster muching on a piece of broccoli']"
     ],
     "language": "python",
     "metadata": {},
     "outputs": [],
     "prompt_number": 3
    },
    {
     "cell_type": "code",
     "collapsed": false,
     "input": [
      "reload(lda)\n",
      "lda.performLDA(abstracts, k=10, iteration=5,smartinit=True)"
     ],
     "language": "python",
     "metadata": {},
     "outputs": [
      {
       "output_type": "stream",
       "stream": "stdout",
       "text": [
        "corpus=31254, words=77238, K=10, a=0.500000, b=0.500000\n",
        "initial perplexity=3204.647246"
       ]
      },
      {
       "output_type": "stream",
       "stream": "stdout",
       "text": [
        "\n",
        "-1 p=3048.136724"
       ]
      },
      {
       "output_type": "stream",
       "stream": "stdout",
       "text": [
        "\n",
        "-2 p=2889.582713"
       ]
      },
      {
       "output_type": "stream",
       "stream": "stdout",
       "text": [
        "\n",
        "-3 p=2722.602394"
       ]
      },
      {
       "output_type": "stream",
       "stream": "stdout",
       "text": [
        "\n",
        "-4 p=2572.341036"
       ]
      },
      {
       "output_type": "stream",
       "stream": "stdout",
       "text": [
        "\n",
        "-5 p=2450.564554"
       ]
      },
      {
       "output_type": "stream",
       "stream": "stdout",
       "text": [
        "\n",
        "\n",
        "-- topic: 0 (151107 words)"
       ]
      },
      {
       "output_type": "stream",
       "stream": "stdout",
       "text": [
        "\n",
        "change: 0.008294 (1573)\n",
        "earthquake: 0.006939 (1316)\n",
        "decision: 0.006364 (1207)\n",
        "study: 0.005753 (1091)\n",
        "land: 0.005368 (1018)\n",
        "seismic: 0.004736 (898)\n",
        "rock: 0.004488 (851)\n",
        "time: 0.004277 (811)\n",
        "project: 0.003798 (720)\n",
        "government: 0.003234 (613)\n",
        "social: 0.003133 (594)\n",
        "behavior: 0.003123 (592)\n",
        "survey: 0.002996 (568)\n",
        "making: 0.002896 (549)\n",
        "event: 0.002875 (545)\n",
        "deformation: 0.002791 (529)\n",
        "test: 0.002754 (522)\n",
        "effect: 0.002728 (517)\n",
        "individual: 0.002722 (516)\n",
        "party: 0.002654 (503)\n",
        "\n",
        "-- topic: 1 (778360 words)\n",
        "br: 0.072000 (58822)\n",
        "study: 0.010636 (8689)\n",
        "gene: 0.008142 (6651)\n",
        "plant: 0.007785 (6360)\n",
        "protein: 0.007235 (5910)\n",
        "cell: 0.006547 (5348)\n",
        "function: 0.005297 (4327)\n",
        "model: 0.005279 (4312)\n",
        "understanding: 0.005121 (4183)\n",
        "data: 0.004421 (3611)\n",
        "process: 0.004383 (3580)\n",
        "mechanism: 0.004036 (3297)\n",
        "analysis: 0.003944 (3222)\n",
        "research: 0.003927 (3208)\n",
        "result: 0.003916 (3199)\n",
        "important: 0.003915 (3198)\n",
        "project: 0.003884 (3173)\n",
        "structure: 0.003713 (3033)\n",
        "group: 0.003618 (2955)\n",
        "specie: 0.003582 (2926)\n",
        "\n",
        "-- topic: 2 (2361976 words)\n",
        "br: 0.053235 (127795)\n",
        "research: 0.015881 (38123)\n",
        "project: 0.010341 (24825)\n",
        "system: 0.009662 (23194)\n",
        "model: 0.006610 (15867)\n",
        "data: 0.006598 (15838)\n",
        "student: 0.006249 (15001)\n",
        "study: 0.005387 (12932)\n",
        "development: 0.005083 (12201)\n",
        "problem: 0.004897 (11755)\n",
        "science: 0.004802 (11528)\n",
        "method: 0.004487 (10771)\n",
        "based: 0.004247 (10195)\n",
        "information: 0.004216 (10121)\n",
        "program: 0.003930 (9435)\n",
        "material: 0.003923 (9417)\n",
        "work: 0.003887 (9330)\n",
        "application: 0.003872 (9295)\n",
        "analysis: 0.003658 (8780)\n",
        "technology: 0.003552 (8527)\n",
        "\n",
        "-- topic: 3 (401935 words)\n",
        "student: 0.033963 (14962)\n",
        "program: 0.024722 (10891)\n",
        "research: 0.019679 (8669)\n",
        "science: 0.019495 (8588)\n",
        "university: 0.015498 (6827)\n",
        "project: 0.011639 (5127)\n",
        "school: 0.009410 (4145)\n",
        "support: 0.009330 (4110)\n",
        "undergraduate: 0.008915 (3927)\n",
        "college: 0.008801 (3877)\n",
        "chemistry: 0.007778 (3426)\n",
        "engineering: 0.007710 (3396)\n",
        "graduate: 0.007587 (3342)\n",
        "teacher: 0.007274 (3204)\n",
        "education: 0.007085 (3121)\n",
        "year: 0.006951 (3062)\n",
        "faculty: 0.006881 (3031)\n",
        "mathematics: 0.005365 (2363)\n",
        "experience: 0.005111 (2251)\n",
        "institution: 0.005052 (2225)\n",
        "\n",
        "-- topic: 4 (259092 words)\n",
        "measurement: 0.006139 (1827)\n",
        "observation: 0.005158 (1535)\n",
        "region: 0.005060 (1506)\n",
        "model: 0.004986 (1484)\n",
        "study: 0.004835 (1439)\n",
        "high: 0.004771 (1420)\n",
        "temperature: 0.004748 (1413)\n",
        "fault: 0.004560 (1357)\n",
        "core: 0.004496 (1338)\n",
        "wave: 0.004452 (1325)\n",
        "atmospheric: 0.004254 (1266)\n",
        "zone: 0.004126 (1228)\n",
        "water: 0.004106 (1222)\n",
        "project: 0.004039 (1202)\n",
        "mantle: 0.004026 (1198)\n",
        "source: 0.003814 (1135)\n",
        "wind: 0.003643 (1084)\n",
        "record: 0.003529 (1050)\n",
        "isotope: 0.003458 (1029)\n",
        "earth: 0.003428 (1020)\n",
        "\n",
        "-- topic: 5 (178149 words)\n",
        "social: 0.011434 (2478)\n",
        "language: 0.008458 (1833)\n",
        "project: 0.008075 (1750)\n",
        "behavior: 0.005271 (1142)\n",
        "study: 0.004749 (1029)\n",
        "political: 0.004648 (1007)\n",
        "policy: 0.004523 (980)\n",
        "human: 0.004473 (969)\n",
        "brain: 0.004376 (948)\n",
        "american: 0.004113 (891)\n",
        "public: 0.003781 (819)\n",
        "child: 0.003513 (761)\n",
        "pattern: 0.003513 (761)\n",
        "university: 0.003176 (688)\n",
        "economic: 0.003158 (684)\n",
        "population: 0.003056 (662)\n",
        "history: 0.003029 (656)\n",
        "visual: 0.002978 (645)\n",
        "difference: 0.002922 (633)\n",
        "cultural: 0.002909 (630)\n",
        "\n",
        "-- topic: 6 (237196 words)\n",
        "research: 0.010280 (2835)\n",
        "study: 0.010219 (2818)\n",
        "site: 0.008464 (2334)\n",
        "dr: 0.007634 (2105)\n",
        "specie: 0.006941 (1914)\n",
        "project: 0.005375 (1482)\n",
        "region: 0.004766 (1314)\n",
        "chemistry: 0.004450 (1227)\n",
        "important: 0.004262 (1175)\n",
        "complex: 0.003990 (1100)\n",
        "understanding: 0.003693 (1018)\n",
        "relationship: 0.003403 (938)\n",
        "population: 0.003399 (937)\n",
        "change: 0.003366 (928)\n",
        "analysis: 0.003290 (907)\n",
        "insect: 0.003200 (882)\n",
        "data: 0.003131 (863)\n",
        "animal: 0.003062 (844)\n",
        "archaeological: 0.002920 (805)\n",
        "cell: 0.002844 (784)\n",
        "\n",
        "-- topic: 7 (207839 words)\n",
        "research: 0.012296 (3030)\n",
        "international: 0.008202 (2021)\n",
        "specie: 0.007610 (1875)\n",
        "project: 0.007358 (1813)\n",
        "training: 0.006612 (1629)\n",
        "provide: 0.006433 (1585)\n",
        "u: 0.006303 (1553)\n",
        "scientist: 0.006084 (1499)\n",
        "population: 0.005642 (1390)\n",
        "marine: 0.004717 (1162)\n",
        "fellowship: 0.004668 (1150)\n",
        "collection: 0.004546 (1120)\n",
        "community: 0.004088 (1007)\n",
        "history: 0.003816 (940)\n",
        "year: 0.003455 (851)\n",
        "award: 0.003398 (837)\n",
        "human: 0.003293 (811)\n",
        "north: 0.003228 (795)\n",
        "opportunity: 0.003212 (791)\n",
        "water: 0.003143 (774)\n",
        "\n",
        "-- topic: 8 (130790 words)\n",
        "research: 0.011832 (2004)\n",
        "u: 0.011697 (1981)\n",
        "conference: 0.008137 (1378)\n",
        "support: 0.005197 (880)\n",
        "university: 0.005032 (852)\n",
        "award: 0.004182 (708)\n",
        "experiment: 0.003497 (592)\n",
        "held: 0.003309 (560)\n",
        "environmental: 0.003226 (546)\n",
        "international: 0.003143 (532)\n",
        "scientist: 0.003043 (515)\n",
        "data: 0.002842 (481)\n",
        "provide: 0.002783 (471)\n",
        "science: 0.002618 (443)\n",
        "community: 0.002606 (441)\n",
        "collaboration: 0.002494 (422)\n",
        "project: 0.002429 (411)\n",
        "information: 0.002429 (411)\n",
        "production: 0.002305 (390)\n",
        "major: 0.002299 (389)\n",
        "\n",
        "-- topic: 9 (402089 words)\n",
        "material: 0.009960 (4389)\n",
        "device: 0.009484 (4179)\n",
        "application: 0.008987 (3960)\n",
        "phase: 0.008969 (3952)\n",
        "research: 0.008601 (3790)\n",
        "system: 0.008596 (3788)\n",
        "technology: 0.008158 (3595)\n",
        "high: 0.008095 (3567)\n",
        "optical: 0.007067 (3114)\n",
        "sensor: 0.006815 (3003)\n",
        "project: 0.005721 (2521)\n",
        "polymer: 0.005488 (2418)\n",
        "small: 0.005345 (2355)\n",
        "cost: 0.004766 (2100)\n",
        "power: 0.004707 (2074)\n",
        "design: 0.004689 (2066)\n",
        "film: 0.004680 (2062)\n",
        "process: 0.004598 (2026)\n",
        "low: 0.004446 (1959)\n",
        "develop: 0.004355 (1919)\n"
       ]
      }
     ],
     "prompt_number": 28
    },
    {
     "cell_type": "code",
     "collapsed": false,
     "input": [
      "abstracts = nsfdata.ix[:,18].dropna()\n",
      "abstracts.apply(lambda x : 1 if 'machine learning' in x else 0).tolist().count(1)"
     ],
     "language": "python",
     "metadata": {},
     "outputs": [
      {
       "metadata": {},
       "output_type": "pyout",
       "prompt_number": 7,
       "text": [
        "121"
       ]
      }
     ],
     "prompt_number": 7
    },
    {
     "cell_type": "code",
     "collapsed": false,
     "input": [
      "term = 'machine learning'\n",
      "\n",
      "for i in range(len(pieces)):\n",
      "    abstracts = pieces[i].ix[:,18].dropna()\n",
      "    count = abstracts.apply(lambda x : 1 if term in x else 0).tolist().count(1)\n",
      "    print(str(pieces[i].year[0])+\": \"+str(count))"
     ],
     "language": "python",
     "metadata": {},
     "outputs": [
      {
       "output_type": "stream",
       "stream": "stdout",
       "text": [
        "1990: 12\n",
        "1991: 13\n",
        "1992: 13\n",
        "1993: 13"
       ]
      },
      {
       "output_type": "stream",
       "stream": "stdout",
       "text": [
        "\n",
        "1994: 7\n",
        "1995: 16\n",
        "1996: 14"
       ]
      },
      {
       "output_type": "stream",
       "stream": "stdout",
       "text": [
        "\n",
        "1997: 16\n",
        "1998: 13\n",
        "1999: 19"
       ]
      },
      {
       "output_type": "stream",
       "stream": "stdout",
       "text": [
        "\n",
        "2000: 25\n",
        "2001: 22"
       ]
      },
      {
       "output_type": "stream",
       "stream": "stdout",
       "text": [
        "\n",
        "2002: 32\n",
        "2003: 67"
       ]
      },
      {
       "output_type": "stream",
       "stream": "stdout",
       "text": [
        "\n",
        "2004: 73\n",
        "2005: 59"
       ]
      },
      {
       "output_type": "stream",
       "stream": "stdout",
       "text": [
        "\n",
        "2006: 64\n",
        "2007: 117"
       ]
      },
      {
       "output_type": "stream",
       "stream": "stdout",
       "text": [
        "\n",
        "2008: 100\n",
        "2009: 155"
       ]
      },
      {
       "output_type": "stream",
       "stream": "stdout",
       "text": [
        "\n",
        "2010: 134\n",
        "2011: 171"
       ]
      },
      {
       "output_type": "stream",
       "stream": "stdout",
       "text": [
        "\n",
        "2012: 190\n",
        "2013: 160"
       ]
      },
      {
       "output_type": "stream",
       "stream": "stdout",
       "text": [
        "\n"
       ]
      }
     ],
     "prompt_number": 18
    }
   ],
   "metadata": {}
  }
 ]
}