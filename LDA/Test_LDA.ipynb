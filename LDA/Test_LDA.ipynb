{
 "metadata": {
  "name": "",
  "signature": "sha256:a9e11301fa918b10269ad14ff9e9dc13b41ae4106dda2b69a235be3242ce9c9a"
 },
 "nbformat": 3,
 "nbformat_minor": 0,
 "worksheets": [
  {
   "cells": [
    {
     "cell_type": "code",
     "collapsed": false,
     "input": [
      "#basic stuffs\n",
      "#=========================================================\n",
      "%pylab inline\n",
      "pylab.xkcd()\n",
      "import pandas as pd\n",
      "import numpy as np"
     ],
     "language": "python",
     "metadata": {},
     "outputs": [
      {
       "output_type": "stream",
       "stream": "stdout",
       "text": [
        "Populating the interactive namespace from numpy and matplotlib\n"
       ]
      }
     ],
     "prompt_number": 1
    },
    {
     "cell_type": "code",
     "collapsed": false,
     "input": [
      "#working with the XML nsf data which contains abstracts\n",
      "import re\n",
      "import glob\n",
      "\n",
      "#from 1976 to 2013\n",
      "#ABSTRACTS ONLY START APPEARING STARTING AT 1983\n",
      "dateRange = (2008,2008)\n",
      "\n",
      "pieces = [];\n",
      "\n",
      "yob_filename_re = re.compile(r\"df\\-(\\d{4})\")\n",
      "\n",
      "#location of the dataframes\n",
      "yobs = glob.glob(\"../nsf-dataframes/*/*.msg\")\n",
      "\n",
      "for path in yobs:\n",
      "    year = int(yob_filename_re.findall(path)[0])\n",
      "    if year >= dateRange[0] and year <= dateRange[1]:\n",
      "        print(year)\n",
      "        print(path)\n",
      "        df = pd.read_pickle(path)\n",
      "        df['year'] = year\n",
      "        df.rename(columns=lambda x: re.sub(\"\\\\W\",\"\",x), inplace=True)\n",
      "        pieces.append(df)\n",
      "        print('size: '+str(df.shape))\n",
      "    \n",
      "nsfdata = pd.concat(pieces, ignore_index=True)\n",
      "\n",
      "    \n"
     ],
     "language": "python",
     "metadata": {},
     "outputs": [
      {
       "output_type": "stream",
       "stream": "stdout",
       "text": [
        "2008\n",
        "../nsf-dataframes\\msg_dataframe_2\\df-2008.msg\n",
        "size: (12146, 173)"
       ]
      },
      {
       "output_type": "stream",
       "stream": "stdout",
       "text": [
        "\n"
       ]
      }
     ],
     "prompt_number": 115
    },
    {
     "cell_type": "code",
     "collapsed": false,
     "input": [
      "abstracts = nsfdata.abstractnarration.dropna()\n",
      "abstracts = map(lambda x : x.encode('ascii','ignore'), abstracts.tolist())"
     ],
     "language": "python",
     "metadata": {},
     "outputs": [],
     "prompt_number": 17
    },
    {
     "cell_type": "code",
     "collapsed": false,
     "input": [
      "#you can try passing this as an argument to lda.performLDA to get a sense of how it's working...\n",
      "testdoc = ['I ate a banana and a spinach smoothie for breakfast',\n",
      "           'I like to eat broccoli and bananas',\n",
      "           'Chinchillas and kittens are cute',\n",
      "           'My sister adopted a kitten yesterday',\n",
      "           'Look at this cute hampster muching on a piece of broccoli']"
     ],
     "language": "python",
     "metadata": {},
     "outputs": [],
     "prompt_number": 3
    },
    {
     "cell_type": "code",
     "collapsed": false,
     "input": [
      "#uhhh... what the heck..\n",
      "nsfdata.ix[1,-20:]"
     ],
     "language": "python",
     "metadata": {},
     "outputs": [
      {
       "metadata": {},
       "output_type": "pyout",
       "prompt_number": 97,
       "text": [
        "programreferencetext3                            LOS ANGELES\n",
        "programreference4                                  900952000\n",
        "programreferencecode4                             3107940102\n",
        "programreferencetext4        11000 Kinross Avenue, Suite 211\n",
        "programreference5                              United States\n",
        "programreferencecode5                             California\n",
        "programreferencetext5                                     CA\n",
        "programreference6                                       None\n",
        "programreferencecode6                                0116000\n",
        "programreferencetext6                         Human Subjects\n",
        "programreference7                                        NaN\n",
        "programreferencecode7                                   1321\n",
        "programreferencetext7         DECISION RISK & MANAGEMENT SCI\n",
        "programreference8                                        NaN\n",
        "programreferencecode8                                   9179\n",
        "programreferencetext8                   GRADUATE INVOLVEMENT\n",
        "programreference9                                        NaN\n",
        "programreferencecode9                                   SMET\n",
        "programreferencetext9    SCIENCE, MATH, ENG & TECH EDUCATION\n",
        "year                                                    2008\n",
        "Name: 1, dtype: object"
       ]
      }
     ],
     "prompt_number": 97
    },
    {
     "cell_type": "code",
     "collapsed": false,
     "input": [
      "#at first glance, programreferencetext 6 and programreferencetext 7, 8 and 9 seem to be slightly relevant...\n",
      "#nsfdata.programreferencecode6.dropna().tolist()\n",
      "#nsfdata[nsfdata.programreferencecode5 == 7339]\n",
      "#nsfdata[nsfdata.programreferencetext6 ]\n",
      "csdata = nsfdata.apply(lambda x : map(lambda x : x.lower() if type(x) is unicode else x, x))\n",
      "csdata = csdata[csdata.programreferencetext6 == 'computer science']"
     ],
     "language": "python",
     "metadata": {},
     "outputs": [],
     "prompt_number": 135
    },
    {
     "cell_type": "code",
     "collapsed": false,
     "input": [
      "import lda\n",
      "lda.performLDA(csdata.abstractnarration.dropna().tolist(), k=10, iteration=10,smartinit=True)"
     ],
     "language": "python",
     "metadata": {},
     "outputs": [
      {
       "output_type": "stream",
       "stream": "stdout",
       "text": [
        "corpus=243, words=4928, K=10, a=0.500000, b=0.500000\n",
        "initial perplexity=1376.440303"
       ]
      },
      {
       "output_type": "stream",
       "stream": "stdout",
       "text": [
        "\n",
        "-1 p=1301.076026"
       ]
      },
      {
       "output_type": "stream",
       "stream": "stdout",
       "text": [
        "\n",
        "-2 p=1244.436448"
       ]
      },
      {
       "output_type": "stream",
       "stream": "stdout",
       "text": [
        "\n",
        "-3 p=1196.251004"
       ]
      },
      {
       "output_type": "stream",
       "stream": "stdout",
       "text": [
        "\n",
        "-4 p=1156.438480"
       ]
      },
      {
       "output_type": "stream",
       "stream": "stdout",
       "text": [
        "\n",
        "-5 p=1121.127473"
       ]
      },
      {
       "output_type": "stream",
       "stream": "stdout",
       "text": [
        "\n",
        "-6 p=1086.626739"
       ]
      },
      {
       "output_type": "stream",
       "stream": "stdout",
       "text": [
        "\n",
        "-7 p=1061.079459"
       ]
      },
      {
       "output_type": "stream",
       "stream": "stdout",
       "text": [
        "\n",
        "-8 p=1045.563420"
       ]
      },
      {
       "output_type": "stream",
       "stream": "stdout",
       "text": [
        "\n",
        "-9 p=1033.505730"
       ]
      },
      {
       "output_type": "stream",
       "stream": "stdout",
       "text": [
        "\n",
        "-10 p=1025.455175"
       ]
      },
      {
       "output_type": "stream",
       "stream": "stdout",
       "text": [
        "\n",
        "\n",
        "-- topic: 0 (1341 words)"
       ]
      },
      {
       "output_type": "stream",
       "stream": "stdout",
       "text": [
        "\n",
        "manifold: 0.007753 (29)\n",
        "geometric: 0.005650 (21)\n",
        "metric: 0.005125 (19)\n",
        "structure: 0.004074 (15)\n",
        "error: 0.003811 (14)\n",
        "canonical: 0.003811 (14)\n",
        "logic: 0.003548 (13)\n",
        "justification: 0.003548 (13)\n",
        "knowledge: 0.003285 (12)\n",
        "general: 0.003285 (12)\n",
        "volume: 0.003022 (11)\n",
        "reliability: 0.003022 (11)\n",
        "triangulation: 0.002760 (10)\n",
        "cost: 0.002234 (8)\n",
        "processor: 0.002234 (8)\n",
        "energy: 0.002234 (8)\n",
        "capacity: 0.002234 (8)\n",
        "soft: 0.002234 (8)\n",
        "finding: 0.002234 (8)\n",
        "proposal: 0.001971 (7)\n",
        "\n",
        "-- topic: 1 (1970 words)\n",
        "group: 0.008457 (37)\n",
        "complexity: 0.007781 (34)\n",
        "theory: 0.005300 (23)\n",
        "microprocessor: 0.004172 (18)\n",
        "domain: 0.003947 (17)\n",
        "program: 0.003721 (16)\n",
        "algebra: 0.003721 (16)\n",
        "parallel: 0.003721 (16)\n",
        "technique: 0.003721 (16)\n",
        "algorithm: 0.003721 (16)\n",
        "size: 0.003496 (15)\n",
        "matrix: 0.003045 (13)\n",
        "mathematical: 0.003045 (13)\n",
        "investigator: 0.003045 (13)\n",
        "scalable: 0.003045 (13)\n",
        "computation: 0.002819 (12)\n",
        "implementation: 0.002819 (12)\n",
        "application: 0.002819 (12)\n",
        "approach: 0.002594 (11)\n",
        "localization: 0.002594 (11)\n",
        "\n",
        "-- topic: 2 (4995 words)\n",
        "student: 0.015082 (112)\n",
        "research: 0.014412 (107)\n",
        "conference: 0.009184 (68)\n",
        "workshop: 0.008245 (61)\n",
        "br: 0.008111 (60)\n",
        "researcher: 0.007843 (58)\n",
        "support: 0.006904 (51)\n",
        "program: 0.006502 (48)\n",
        "community: 0.006234 (46)\n",
        "future: 0.006234 (46)\n",
        "meeting: 0.005832 (43)\n",
        "computing: 0.005698 (42)\n",
        "education: 0.005564 (41)\n",
        "impact: 0.005430 (40)\n",
        "technology: 0.004893 (36)\n",
        "science: 0.004759 (35)\n",
        "undergraduate: 0.004625 (34)\n",
        "engineering: 0.004223 (31)\n",
        "architecture: 0.004223 (31)\n",
        "internet: 0.004089 (30)\n",
        "\n",
        "-- topic: 3 (880 words)\n",
        "testbed: 0.007028 (23)\n",
        "auditory: 0.004635 (15)\n",
        "layer: 0.004037 (13)\n",
        "motion: 0.003140 (10)\n",
        "server: 0.002542 (8)\n",
        "virtualization: 0.002243 (7)\n",
        "style: 0.002243 (7)\n",
        "qubit: 0.002243 (7)\n",
        "swimming: 0.002243 (7)\n",
        "modeling: 0.001944 (6)\n",
        "hd: 0.001944 (6)\n",
        "human: 0.001944 (6)\n",
        "experiment: 0.001944 (6)\n",
        "validation: 0.001944 (6)\n",
        "goal: 0.001944 (6)\n",
        "speech: 0.001645 (5)\n",
        "evaluation: 0.001645 (5)\n",
        "child: 0.001645 (5)\n",
        "disorder: 0.001645 (5)\n",
        "pathway: 0.001645 (5)\n",
        "\n",
        "-- topic: 4 (2521 words)\n",
        "detection: 0.009529 (47)\n",
        "problem: 0.009328 (46)\n",
        "system: 0.005918 (29)\n",
        "decision: 0.005115 (25)\n",
        "change: 0.004915 (24)\n",
        "observation: 0.004714 (23)\n",
        "model: 0.004514 (22)\n",
        "method: 0.004112 (20)\n",
        "failure: 0.004112 (20)\n",
        "goal: 0.004112 (20)\n",
        "aim: 0.003912 (19)\n",
        "physical: 0.003711 (18)\n",
        "design: 0.003711 (18)\n",
        "time: 0.003711 (18)\n",
        "physic: 0.003310 (16)\n",
        "strategy: 0.003109 (15)\n",
        "fault: 0.002909 (14)\n",
        "nonlinear: 0.002909 (14)\n",
        "regime: 0.002909 (14)\n",
        "computing: 0.002909 (14)\n",
        "\n",
        "-- topic: 5 (2352 words)\n",
        "information: 0.013808 (66)\n",
        "system: 0.012978 (62)\n",
        "communication: 0.010278 (49)\n",
        "design: 0.009032 (43)\n",
        "application: 0.007579 (36)\n",
        "mpi: 0.006748 (32)\n",
        "biological: 0.005087 (24)\n",
        "workshop: 0.004880 (23)\n",
        "sided: 0.004464 (21)\n",
        "scale: 0.004464 (21)\n",
        "petascale: 0.004464 (21)\n",
        "structure: 0.004464 (21)\n",
        "data: 0.004257 (20)\n",
        "semantics: 0.003841 (18)\n",
        "set: 0.003841 (18)\n",
        "current: 0.003218 (15)\n",
        "implementation: 0.003218 (15)\n",
        "processing: 0.003218 (15)\n",
        "extension: 0.003011 (14)\n",
        "driven: 0.002596 (12)\n",
        "\n",
        "-- topic: 6 (4369 words)\n",
        "memory: 0.011488 (78)\n",
        "programming: 0.011196 (76)\n",
        "performance: 0.010903 (74)\n",
        "system: 0.009879 (67)\n",
        "chip: 0.009000 (61)\n",
        "circuit: 0.009000 (61)\n",
        "software: 0.008415 (57)\n",
        "core: 0.007244 (49)\n",
        "program: 0.007244 (49)\n",
        "language: 0.007098 (48)\n",
        "design: 0.006952 (47)\n",
        "level: 0.006220 (42)\n",
        "high: 0.005927 (40)\n",
        "processor: 0.005781 (39)\n",
        "hardware: 0.005634 (38)\n",
        "compiler: 0.005488 (37)\n",
        "multi: 0.005342 (36)\n",
        "model: 0.005342 (36)\n",
        "power: 0.005342 (36)\n",
        "project: 0.004756 (32)\n",
        "\n",
        "-- topic: 7 (15767 words)\n",
        "br: 0.090917 (1657)\n",
        "research: 0.021584 (393)\n",
        "network: 0.018293 (333)\n",
        "project: 0.012040 (219)\n",
        "system: 0.011821 (215)\n",
        "problem: 0.011656 (212)\n",
        "algorithm: 0.010943 (199)\n",
        "application: 0.009023 (164)\n",
        "data: 0.008968 (163)\n",
        "analysis: 0.007048 (128)\n",
        "computer: 0.007048 (128)\n",
        "design: 0.006719 (122)\n",
        "model: 0.006664 (121)\n",
        "performance: 0.005622 (102)\n",
        "large: 0.005403 (98)\n",
        "processing: 0.005403 (98)\n",
        "based: 0.005348 (97)\n",
        "study: 0.005293 (96)\n",
        "technique: 0.005019 (91)\n",
        "tool: 0.004800 (87)\n",
        "\n",
        "-- topic: 8 (1963 words)\n",
        "code: 0.028575 (126)\n",
        "communication: 0.013892 (61)\n",
        "channel: 0.010052 (44)\n",
        "video: 0.005760 (25)\n",
        "coding: 0.005308 (23)\n",
        "networking: 0.004631 (20)\n",
        "capacity: 0.004405 (19)\n",
        "error: 0.004179 (18)\n",
        "ldpc: 0.003275 (14)\n",
        "wireless: 0.003275 (14)\n",
        "perturbation: 0.003275 (14)\n",
        "design: 0.003275 (14)\n",
        "protocol: 0.003049 (13)\n",
        "underwater: 0.002824 (12)\n",
        "acoustic: 0.002824 (12)\n",
        "convolutional: 0.002598 (11)\n",
        "digital: 0.002598 (11)\n",
        "transmission: 0.002372 (10)\n",
        "mimo: 0.002372 (10)\n",
        "include: 0.002372 (10)\n",
        "\n",
        "-- topic: 9 (1778 words)\n",
        "mechanism: 0.011669 (49)\n",
        "behavior: 0.010019 (42)\n",
        "sensor: 0.006954 (29)\n",
        "local: 0.006719 (28)\n",
        "molecular: 0.006247 (26)\n",
        "robot: 0.005776 (24)\n",
        "environment: 0.005540 (23)\n",
        "robotics: 0.005540 (23)\n",
        "user: 0.005540 (23)\n",
        "individual: 0.005304 (22)\n",
        "approach: 0.004833 (20)\n",
        "multiple: 0.004833 (20)\n",
        "optimal: 0.004597 (19)\n",
        "design: 0.004597 (19)\n",
        "actuator: 0.004361 (18)\n",
        "service: 0.003890 (16)\n",
        "molecule: 0.003890 (16)\n",
        "natural: 0.003654 (15)\n",
        "form: 0.003418 (14)\n",
        "world: 0.003418 (14)\n"
       ]
      }
     ],
     "prompt_number": 137
    }
   ],
   "metadata": {}
  }
 ]
}